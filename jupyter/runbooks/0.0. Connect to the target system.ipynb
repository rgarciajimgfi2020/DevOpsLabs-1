{
 "cells": [
  {
   "cell_type": "markdown",
   "id": "naked-opportunity",
   "metadata": {},
   "source": [
    "# Connect to the target system"
   ]
  },
  {
   "cell_type": "markdown",
   "id": "finished-ethernet",
   "metadata": {},
   "source": [
    "**Objective**:\n",
    "Make a connection to a target system when required."
   ]
  },
  {
   "cell_type": "markdown",
   "id": "backed-valley",
   "metadata": {},
   "source": [
    "Ask for the name of the target system and the username and password to connect.\n",
    "\n",
    "note: would it be also required a key file?"
   ]
  },
  {
   "cell_type": "code",
   "execution_count": 1,
   "id": "enabling-bones",
   "metadata": {},
   "outputs": [
    {
     "name": "stdout",
     "output_type": "stream",
     "text": [
      "Which is the hostname of the target machine? localhost\n",
      "Which is your user to execute admin processes? jlg-hbr\n",
      "Which is the password to use? ········\n"
     ]
    }
   ],
   "source": [
    "import getpass\n",
    "target_host=input (\"Which is the hostname of the target machine? \")\n",
    "user=input (\"Which is your user to execute admin processes? \")\n",
    "password = getpass.getpass(\"Which is the password to use? \")"
   ]
  },
  {
   "cell_type": "code",
   "execution_count": 3,
   "id": "retained-binding",
   "metadata": {},
   "outputs": [
    {
     "name": "stdout",
     "output_type": "stream",
     "text": [
      "Stored 'target_host' (str)\n",
      "Stored 'user' (str)\n",
      "Stored 'password' (str)\n"
     ]
    }
   ],
   "source": [
    "%store target_host\n",
    "%store user\n",
    "%store password"
   ]
  },
  {
   "cell_type": "code",
   "execution_count": null,
   "id": "alternate-equipment",
   "metadata": {},
   "outputs": [],
   "source": []
  }
 ],
 "metadata": {
  "kernelspec": {
   "display_name": "Python 3",
   "language": "python",
   "name": "python3"
  },
  "language_info": {
   "codemirror_mode": {
    "name": "ipython",
    "version": 3
   },
   "file_extension": ".py",
   "mimetype": "text/x-python",
   "name": "python",
   "nbconvert_exporter": "python",
   "pygments_lexer": "ipython3",
   "version": "3.6.9"
  }
 },
 "nbformat": 4,
 "nbformat_minor": 5
}
