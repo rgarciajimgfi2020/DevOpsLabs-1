{
 "cells": [
  {
   "cell_type": "markdown",
   "id": "naked-opportunity",
   "metadata": {},
   "source": [
    "# Stop Execution"
   ]
  },
  {
   "cell_type": "code",
   "execution_count": 1,
   "id": "constant-allah",
   "metadata": {},
   "outputs": [],
   "source": [
    "class StopExecution(Exception):\n",
    "    def _render_traceback_(self):\n",
    "        pass\n",
    "\n",
    "raise StopExecution"
   ]
  }
 ],
 "metadata": {
  "kernelspec": {
   "display_name": "Python 3",
   "language": "python",
   "name": "python3"
  },
  "language_info": {
   "codemirror_mode": {
    "name": "ipython",
    "version": 3
   },
   "file_extension": ".py",
   "mimetype": "text/x-python",
   "name": "python",
   "nbconvert_exporter": "python",
   "pygments_lexer": "ipython3",
   "version": "3.6.9"
  }
 },
 "nbformat": 4,
 "nbformat_minor": 5
}
